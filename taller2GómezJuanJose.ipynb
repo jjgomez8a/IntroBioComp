{
  "nbformat": 4,
  "nbformat_minor": 0,
  "metadata": {
    "colab": {
      "provenance": [],
      "authorship_tag": "ABX9TyOvQdgI7HYvSpRd+X4QbxoL",
      "include_colab_link": true
    },
    "kernelspec": {
      "name": "python3",
      "display_name": "Python 3"
    },
    "language_info": {
      "name": "python"
    }
  },
  "cells": [
    {
      "cell_type": "markdown",
      "metadata": {
        "id": "view-in-github",
        "colab_type": "text"
      },
      "source": [
        "<a href=\"https://colab.research.google.com/github/jjgomez8a/IntroBioComp/blob/main/taller2G%C3%B3mezJuanJose.ipynb\" target=\"_parent\"><img src=\"https://colab.research.google.com/assets/colab-badge.svg\" alt=\"Open In Colab\"/></a>"
      ]
    },
    {
      "cell_type": "code",
      "execution_count": 2,
      "metadata": {
        "colab": {
          "base_uri": "https://localhost:8080/"
        },
        "id": "-vtdSVGlCQP5",
        "outputId": "ee29d11a-5d22-4048-f683-6497db31dd8d"
      },
      "outputs": [
        {
          "output_type": "stream",
          "name": "stdout",
          "text": [
            "\u001b[?25l   \u001b[90m━━━━━━━━━━━━━━━━━━━━━━━━━━━━━━━━━━━━━━━━\u001b[0m \u001b[32m0.0/3.3 MB\u001b[0m \u001b[31m?\u001b[0m eta \u001b[36m-:--:--\u001b[0m\r\u001b[2K   \u001b[91m━━━\u001b[0m\u001b[90m╺\u001b[0m\u001b[90m━━━━━━━━━━━━━━━━━━━━━━━━━━━━━━━━━━━━\u001b[0m \u001b[32m0.3/3.3 MB\u001b[0m \u001b[31m7.9 MB/s\u001b[0m eta \u001b[36m0:00:01\u001b[0m\r\u001b[2K   \u001b[91m━━━━━━━━━━━━━━━━━━━━━━━━━━━\u001b[0m\u001b[91m╸\u001b[0m\u001b[90m━━━━━━━━━━━━\u001b[0m \u001b[32m2.3/3.3 MB\u001b[0m \u001b[31m33.0 MB/s\u001b[0m eta \u001b[36m0:00:01\u001b[0m\r\u001b[2K   \u001b[91m━━━━━━━━━━━━━━━━━━━━━━━━━━━━━━━━━━━━━━━\u001b[0m\u001b[91m╸\u001b[0m \u001b[32m3.3/3.3 MB\u001b[0m \u001b[31m41.4 MB/s\u001b[0m eta \u001b[36m0:00:01\u001b[0m\r\u001b[2K   \u001b[90m━━━━━━━━━━━━━━━━━━━━━━━━━━━━━━━━━━━━━━━━\u001b[0m \u001b[32m3.3/3.3 MB\u001b[0m \u001b[31m29.3 MB/s\u001b[0m eta \u001b[36m0:00:00\u001b[0m\n",
            "\u001b[?25h"
          ]
        }
      ],
      "source": [
        "!pip -q install biopython"
      ]
    },
    {
      "cell_type": "code",
      "source": [
        "!python3 design_primers_two_files.py neander_target.fa human_nontarget.fa\n"
      ],
      "metadata": {
        "colab": {
          "base_uri": "https://localhost:8080/"
        },
        "id": "aWgPdfgNDOou",
        "outputId": "5384aa06-7ece-4b38-bead-f1f7d7981e7e"
      },
      "execution_count": 3,
      "outputs": [
        {
          "output_type": "stream",
          "name": "stdout",
          "text": [
            "/usr/local/lib/python3.12/dist-packages/Bio/pairwise2.py:278: BiopythonDeprecationWarning: Bio.pairwise2 has been deprecated, and we intend to remove it in a future release of Biopython. As an alternative, please consider using Bio.Align.PairwiseAligner as a replacement, and contact the Biopython developers if you still need the Bio.pairwise2 module.\n",
            "  warnings.warn(\n",
            "[OK] 387 pares. Revisa ./out/primers_candidates.csv y ./out/primers_candidates.fasta\n",
            "Top1: Amp=100 bp | FWD(3′@903, Tm=62, GC=47.6%) / REV(3′@1002, Tm=62, GC=47.6%) | ΔTm=0\n",
            "Par guardado en out/check_primers.fa\n"
          ]
        }
      ]
    },
    {
      "cell_type": "code",
      "source": [
        "!head -n 10 out/primers_candidates.csv\n"
      ],
      "metadata": {
        "colab": {
          "base_uri": "https://localhost:8080/"
        },
        "id": "F-u8MfLMDs7r",
        "outputId": "bc7d945b-9303-4e7a-b770-96d435d82000"
      },
      "execution_count": 4,
      "outputs": [
        {
          "output_type": "stream",
          "name": "stdout",
          "text": [
            "pair_id,FWD_seq,REV_seq,FWD_Tm,REV_Tm,FWD_GC(%),REV_GC(%),FWD_3p_pos(1b),REV_3p_pos(1b),Amplicon_len_bp,Tm_diff\r\n",
            "pair_1,CTACTATCCATCCTCATCCTG,TGTCCTCCGATTCAGGTTAGA,62,62,47.6,47.6,903,1002,100,0\r\n",
            "pair_2,CTGGCAATAATCCCCATCCTT,AAAAGGGTAGCTTACTGGTTGT,62,62,47.6,40.9,921,1020,100,0\r\n",
            "pair_3,CAATAATCCCCATCCTTCATG,GATAAAAGGGTAGCTTACTGG,60,60,42.9,42.9,925,1024,100,0\r\n",
            "pair_4,TGGCAATAATCCCCATCCTT,AAGGGTAGCTTACTGGTTGT,58,58,45.0,45.0,921,1020,100,0\r\n",
            "pair_5,CTACTATCCATCCTCATCCTG,GTCCTCCGATTCAGGTTAGA,62,60,47.6,50.0,903,1002,100,2\r\n",
            "pair_6,CTGGCAATAATCCCCATCCTT,AAAGGGTAGCTTACTGGTTGT,62,60,47.6,42.9,921,1020,100,2\r\n",
            "pair_7,CAATAATCCCCATCCTTCATG,TGATAAAAGGGTAGCTTACTGG,60,62,42.9,40.9,925,1024,100,2\r\n",
            "pair_8,TACTATCCATCCTCATCCTG,GTCCTCCGATTCAGGTTAGA,58,60,45.0,50.0,903,1002,100,2\r\n",
            "pair_9,TGGCAATAATCCCCATCCTT,AAAGGGTAGCTTACTGGTTGT,58,60,45.0,42.9,921,1020,100,2\r\n"
          ]
        }
      ]
    }
  ]
}