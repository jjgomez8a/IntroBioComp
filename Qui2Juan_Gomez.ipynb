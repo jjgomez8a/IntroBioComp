{
  "nbformat": 4,
  "nbformat_minor": 0,
  "metadata": {
    "colab": {
      "provenance": [],
      "authorship_tag": "ABX9TyMsKzFQ4Twxn5PUPLUmtAJO",
      "include_colab_link": true
    },
    "kernelspec": {
      "name": "python3",
      "display_name": "Python 3"
    },
    "language_info": {
      "name": "python"
    }
  },
  "cells": [
    {
      "cell_type": "markdown",
      "metadata": {
        "id": "view-in-github",
        "colab_type": "text"
      },
      "source": [
        "<a href=\"https://colab.research.google.com/github/jjgomez8a/IntroBioComp/blob/main/Qui2Juan_Gomez.ipynb\" target=\"_parent\"><img src=\"https://colab.research.google.com/assets/colab-badge.svg\" alt=\"Open In Colab\"/></a>"
      ]
    },
    {
      "cell_type": "markdown",
      "source": [
        "BLASTn+"
      ],
      "metadata": {
        "id": "Zvl-XPx5afOZ"
      }
    },
    {
      "cell_type": "code",
      "source": [
        "!apt-get -y update && apt-get -y install ncbi-blast+\n",
        "!blastn -version && makeblastdb -version\n"
      ],
      "metadata": {
        "colab": {
          "base_uri": "https://localhost:8080/"
        },
        "id": "mbWosAelaaNR",
        "outputId": "649fa094-588c-4e38-94db-b6a14d9eada4"
      },
      "execution_count": 5,
      "outputs": [
        {
          "output_type": "stream",
          "name": "stdout",
          "text": [
            "\r0% [Working]\r            \rHit:1 http://archive.ubuntu.com/ubuntu jammy InRelease\n",
            "\r0% [Connecting to security.ubuntu.com (185.125.190.82)] [Connected to cloud.r-p\r                                                                               \rHit:2 https://cli.github.com/packages stable InRelease\n",
            "\r0% [Waiting for headers] [Waiting for headers] [Waiting for headers] [Waiting f\r                                                                               \rGet:3 https://cloud.r-project.org/bin/linux/ubuntu jammy-cran40/ InRelease [3,632 B]\n",
            "\r0% [Waiting for headers] [Waiting for headers] [3 InRelease 3,632 B/3,632 B 100\r                                                                               \rGet:4 http://archive.ubuntu.com/ubuntu jammy-updates InRelease [128 kB]\n",
            "Get:5 https://developer.download.nvidia.com/compute/cuda/repos/ubuntu2204/x86_64  InRelease [1,581 B]\n",
            "Get:6 http://security.ubuntu.com/ubuntu jammy-security InRelease [129 kB]\n",
            "Get:7 https://r2u.stat.illinois.edu/ubuntu jammy InRelease [6,555 B]\n",
            "Get:8 http://archive.ubuntu.com/ubuntu jammy-backports InRelease [127 kB]\n",
            "Hit:9 https://ppa.launchpadcontent.net/deadsnakes/ppa/ubuntu jammy InRelease\n",
            "Get:10 https://developer.download.nvidia.com/compute/cuda/repos/ubuntu2204/x86_64  Packages [2,045 kB]\n",
            "Hit:11 https://ppa.launchpadcontent.net/graphics-drivers/ppa/ubuntu jammy InRelease\n",
            "Get:12 https://r2u.stat.illinois.edu/ubuntu jammy/main amd64 Packages [2,807 kB]\n",
            "Hit:13 https://ppa.launchpadcontent.net/ubuntugis/ppa/ubuntu jammy InRelease\n",
            "Get:14 http://archive.ubuntu.com/ubuntu jammy-updates/main amd64 Packages [3,695 kB]\n",
            "Get:15 https://r2u.stat.illinois.edu/ubuntu jammy/main all Packages [9,313 kB]\n",
            "Get:16 http://archive.ubuntu.com/ubuntu jammy-updates/universe amd64 Packages [1,580 kB]\n",
            "Get:17 http://security.ubuntu.com/ubuntu jammy-security/main amd64 Packages [3,371 kB]\n",
            "Get:18 http://security.ubuntu.com/ubuntu jammy-security/universe amd64 Packages [1,274 kB]\n",
            "Fetched 24.5 MB in 2s (12.1 MB/s)\n",
            "Reading package lists... Done\n",
            "W: Skipping acquire of configured file 'main/source/Sources' as repository 'https://r2u.stat.illinois.edu/ubuntu jammy InRelease' does not seem to provide it (sources.list entry misspelt?)\n",
            "Reading package lists... Done\n",
            "Building dependency tree... Done\n",
            "Reading state information... Done\n",
            "The following additional packages will be installed:\n",
            "  ncbi-data\n",
            "The following NEW packages will be installed:\n",
            "  ncbi-blast+ ncbi-data\n",
            "0 upgraded, 2 newly installed, 0 to remove and 49 not upgraded.\n",
            "Need to get 15.8 MB of archives.\n",
            "After this operation, 71.8 MB of additional disk space will be used.\n",
            "Get:1 http://archive.ubuntu.com/ubuntu jammy/universe amd64 ncbi-data all 6.1.20170106+dfsg1-9 [3,519 kB]\n",
            "Get:2 http://archive.ubuntu.com/ubuntu jammy/universe amd64 ncbi-blast+ amd64 2.12.0+ds-3build1 [12.3 MB]\n",
            "Fetched 15.8 MB in 0s (33.9 MB/s)\n",
            "Selecting previously unselected package ncbi-data.\n",
            "(Reading database ... 126666 files and directories currently installed.)\n",
            "Preparing to unpack .../ncbi-data_6.1.20170106+dfsg1-9_all.deb ...\n",
            "Unpacking ncbi-data (6.1.20170106+dfsg1-9) ...\n",
            "Selecting previously unselected package ncbi-blast+.\n",
            "Preparing to unpack .../ncbi-blast+_2.12.0+ds-3build1_amd64.deb ...\n",
            "Unpacking ncbi-blast+ (2.12.0+ds-3build1) ...\n",
            "Setting up ncbi-data (6.1.20170106+dfsg1-9) ...\n",
            "Setting up ncbi-blast+ (2.12.0+ds-3build1) ...\n",
            "Processing triggers for man-db (2.10.2-1) ...\n",
            "Processing triggers for hicolor-icon-theme (0.17-2) ...\n",
            "blastn: 2.12.0+\n",
            " Package: blast 2.12.0, build Mar  8 2022 16:19:08\n",
            "makeblastdb: 2.12.0+\n",
            " Package: blast 2.12.0, build Mar  8 2022 16:19:08\n"
          ]
        }
      ]
    },
    {
      "cell_type": "markdown",
      "source": [
        "Correr"
      ],
      "metadata": {
        "id": "S7WLewb-aseh"
      }
    },
    {
      "cell_type": "code",
      "execution_count": 6,
      "metadata": {
        "colab": {
          "base_uri": "https://localhost:8080/"
        },
        "id": "d9EAFF4IZtKn",
        "outputId": "f59b6a81-07d9-4b59-d6d2-cf0e97eff889"
      },
      "outputs": [
        {
          "output_type": "stream",
          "name": "stdout",
          "text": [
            "Archivos generados:\n",
            " - resultados/NRAMP5_vs_chr9.tab        (tabla outfmt6 extendida; una fila por HSP)\n",
            " - resultados/NRAMP5_vs_chr9.aln        (reporte legible para revisar SNPs/mismatches/gaps)\n",
            " - resultados/HSPs.bed        (intervalos de HSP por sseqid; útil para IGV)\n",
            " - resultados/loci.tsv      (loci fusionados por 50000 bp: sseqid  start  end  #HSPs)\n",
            " - resultados/metricas.tsv        (métricas crudas + mejor HSP)\n"
          ]
        }
      ],
      "source": [
        "!sed -i 's/\\r$//' nramp5_chr9.sh\n",
        "!chmod +x nramp5_chr9.sh\n",
        "!./nramp5_chr9.sh"
      ]
    },
    {
      "cell_type": "markdown",
      "source": [
        "**RESPUESTAS**\n",
        "\n",
        "Alineamientos (matches): 3.\n",
        "\n",
        "Locus/loci: Mismo locus. Coordenadas: NC_030857.1: 6,800,915–6,830,167 (hebra −), con 3 HSPs dentro de ese rango.\n",
        "\n",
        "Comparación con referencia: Coincide casi completamente. Mejor HSP con identidad 99.652 %, cobertura sobre la query 100 %, longitud alineada 4,889 bp, 17 mismatches (SNPs) y 0 gaps (gap openings 0). Los HSPs secundarios muestran menor identidad y sí presentan gaps, pero el principal cubre todo el gen.\n",
        "\n",
        "Posiciones sugeridas para primers (sobre la query de 4,889 nt): elegir un amplicón interno de ~180–220 bp en zona conservada del mejor HSP; por ejemplo Forward ≈ 2,300–2,320 y Reverse ≈ 2,480–2,500 (producto ~180–200 bp)."
      ],
      "metadata": {
        "id": "FE3XBgCKalcP"
      }
    }
  ]
}